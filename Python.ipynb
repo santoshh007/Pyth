{
 "cells": [
  {
   "cell_type": "code",
   "execution_count": 1,
   "metadata": {},
   "outputs": [
    {
     "name": "stdout",
     "output_type": "stream",
     "text": [
      "mul: 25\n"
     ]
    }
   ],
   "source": [
    "#Task2 ask user to enter any  two values\n",
    "#display multiplication \n",
    "a=int(input(\"enter a value\"))\n",
    "b=int(input(\"enter a value\"))\n",
    "mul=a*b\n",
    "print(\"mul:\",mul)\n"
   ]
  },
  {
   "cell_type": "code",
   "execution_count": 2,
   "metadata": {},
   "outputs": [
    {
     "name": "stdout",
     "output_type": "stream",
     "text": [
      "<class 'str'>\n",
      "<class 'int'>\n",
      "<class 'float'>\n",
      "<class 'bool'>\n"
     ]
    }
   ],
   "source": [
    "name=\"ram\" #string\n",
    "age=12   #integer\n",
    "gpa=3.2  #float\n",
    "student=True #boolean\n",
    "\n",
    "print(type(name))\n",
    "print(type(age))\n",
    "print(type(gpa))\n",
    "print(type(student))\n",
    "\n"
   ]
  },
  {
   "cell_type": "code",
   "execution_count": 3,
   "metadata": {},
   "outputs": [
    {
     "name": "stdout",
     "output_type": "stream",
     "text": [
      "12.0\n"
     ]
    }
   ],
   "source": [
    "#Type of casting\n",
    "age=float(age)\n",
    "print(age)\n"
   ]
  },
  {
   "cell_type": "code",
   "execution_count": 4,
   "metadata": {},
   "outputs": [
    {
     "name": "stdout",
     "output_type": "stream",
     "text": [
      "result: 1\n",
      "result: (1+0j)\n",
      "result: (1+0j)santos\n"
     ]
    }
   ],
   "source": [
    "a=3\n",
    "b=2\n",
    "c=a/b\n",
    "c=int(c)\n",
    "d=complex(c)\n",
    "print('result:',c)\n",
    "print('result:',d)\n",
    "e=str(d)\n",
    "f=\"santos\"\n",
    "g=e+f\n",
    "print('result:',g)\n"
   ]
  },
  {
   "cell_type": "code",
   "execution_count": 5,
   "metadata": {},
   "outputs": [
    {
     "name": "stdout",
     "output_type": "stream",
     "text": [
      "7\n"
     ]
    }
   ],
   "source": [
    "#addition\n",
    "x=5\n",
    "y=2\n",
    "x=x+y #overwrite\n",
    "print(x)"
   ]
  },
  {
   "cell_type": "code",
   "execution_count": 6,
   "metadata": {},
   "outputs": [
    {
     "name": "stdout",
     "output_type": "stream",
     "text": [
      "7\n"
     ]
    }
   ],
   "source": [
    "#another method to add\n",
    "x=5\n",
    "y=2\n",
    "x+=y \n",
    "print(x)"
   ]
  },
  {
   "cell_type": "code",
   "execution_count": 7,
   "metadata": {},
   "outputs": [
    {
     "name": "stdout",
     "output_type": "stream",
     "text": [
      "3\n"
     ]
    }
   ],
   "source": [
    "#subtraction\n",
    "x=5\n",
    "y=2\n",
    "x-=y \n",
    "print(x)"
   ]
  },
  {
   "cell_type": "code",
   "execution_count": 8,
   "metadata": {},
   "outputs": [
    {
     "name": "stdout",
     "output_type": "stream",
     "text": [
      "10\n"
     ]
    }
   ],
   "source": [
    "#multiplication\n",
    "x=5\n",
    "y=2\n",
    "x*=y \n",
    "print(x)"
   ]
  },
  {
   "cell_type": "code",
   "execution_count": 9,
   "metadata": {},
   "outputs": [
    {
     "name": "stdout",
     "output_type": "stream",
     "text": [
      "2.5\n"
     ]
    }
   ],
   "source": [
    "#division\n",
    "x=5\n",
    "y=2\n",
    "x/=y \n",
    "print(x)"
   ]
  },
  {
   "cell_type": "code",
   "execution_count": 10,
   "metadata": {},
   "outputs": [
    {
     "name": "stdout",
     "output_type": "stream",
     "text": [
      "2\n"
     ]
    }
   ],
   "source": [
    "#floor division\n",
    "x=5\n",
    "y=2\n",
    "x//=y \n",
    "print(x)"
   ]
  },
  {
   "cell_type": "code",
   "execution_count": 11,
   "metadata": {},
   "outputs": [
    {
     "name": "stdout",
     "output_type": "stream",
     "text": [
      "1\n"
     ]
    }
   ],
   "source": [
    "#modulus\n",
    "x=5\n",
    "y=2\n",
    "x%=y \n",
    "print(x)"
   ]
  },
  {
   "cell_type": "code",
   "execution_count": 12,
   "metadata": {},
   "outputs": [
    {
     "name": "stdout",
     "output_type": "stream",
     "text": [
      "False\n",
      "True\n",
      "True\n",
      "False\n",
      "True\n",
      "False\n"
     ]
    }
   ],
   "source": [
    "x=7\n",
    "y=9\n",
    "# ==\n",
    "print(x==y)\n",
    "\n",
    "# !=\n",
    "print(x!=y)\n",
    "\n",
    "# >\n",
    "print(x<y)\n",
    "\n",
    "# >\n",
    "print(x>y)\n",
    "\n",
    "# >=\n",
    "print(x<=y)\n",
    "\n",
    "# >=\n",
    "print(x>=y)\n",
    "\n"
   ]
  },
  {
   "cell_type": "code",
   "execution_count": 13,
   "metadata": {},
   "outputs": [
    {
     "name": "stdout",
     "output_type": "stream",
     "text": [
      "True\n",
      "False\n",
      "False\n",
      "True\n",
      "False\n",
      "True\n"
     ]
    }
   ],
   "source": [
    "x=10\n",
    "y=14\n",
    "z=25\n",
    "print(x<y or x<z)\n",
    "print(not(x<y or x<z))\n",
    "print(x>y or x>z)\n",
    "print(x<y and x<z)\n",
    "print(x>y and z<y)\n",
    "print(y<z>x)\n"
   ]
  },
  {
   "cell_type": "markdown",
   "metadata": {},
   "source": [
    "# Python Tuples"
   ]
  },
  {
   "cell_type": "code",
   "execution_count": 25,
   "metadata": {},
   "outputs": [
    {
     "name": "stdout",
     "output_type": "stream",
     "text": [
      "<class 'tuple'>\n"
     ]
    }
   ],
   "source": [
    "tuple=(1,2,3,4,5,5)\n",
    "print(type(tuple))\n"
   ]
  },
  {
   "cell_type": "code",
   "execution_count": 19,
   "metadata": {},
   "outputs": [
    {
     "name": "stdout",
     "output_type": "stream",
     "text": [
      "1\n",
      "5\n"
     ]
    }
   ],
   "source": [
    "print(tuple[0])\n",
    "print(len(tuple))"
   ]
  },
  {
   "cell_type": "code",
   "execution_count": 26,
   "metadata": {},
   "outputs": [
    {
     "name": "stdout",
     "output_type": "stream",
     "text": [
      "3\n",
      "2\n"
     ]
    }
   ],
   "source": [
    "# tuple.append(50)\n",
    "# print(tuple)\n",
    "print(tuple.index(4))\n",
    "print(tuple.count(5))"
   ]
  },
  {
   "cell_type": "code",
   "execution_count": 29,
   "metadata": {},
   "outputs": [
    {
     "name": "stdout",
     "output_type": "stream",
     "text": [
      "True\n",
      "False\n",
      "True\n",
      "False\n"
     ]
    }
   ],
   "source": [
    "#in and not in are the membership checking operator\n",
    "Football=[\"Messi\",\"Neymar\",\"Suarez\",\"Ter Stegen\"]\n",
    "print(\"Messi\"in Football)\n",
    "print(\"messi\" in Football)\n",
    "print(\"neymar\" not in Football)\n",
    "print(\"Argentina\" in Football)"
   ]
  },
  {
   "cell_type": "code",
   "execution_count": 42,
   "metadata": {},
   "outputs": [
    {
     "name": "stdout",
     "output_type": "stream",
     "text": [
      "True\n",
      "True\n",
      "False\n",
      "False\n"
     ]
    }
   ],
   "source": [
    "one=\"aayan\"\n",
    "two=\"aryan\"\n",
    "three=\"sushant\"\n",
    "prabhat=\"prabhat\"\n",
    "all=[\"aayan\",\"aryan\",\"sushant\",\"prabhat\"]\n",
    "check=one in all\n",
    "print(check)\n",
    "print(two in all or one in all)\n",
    "print(three not in all)\n",
    "print(\"sushant\" not in all)"
   ]
  },
  {
   "cell_type": "code",
   "execution_count": 68,
   "metadata": {},
   "outputs": [
    {
     "name": "stdout",
     "output_type": "stream",
     "text": [
      "<class 'set'>\n",
      "{'namaste', 'hello', 'hi'}\n",
      "{'namaste', 'bye', 'hello', 'hi'}\n"
     ]
    }
   ],
   "source": [
    "#sets: collection of well defined object \n",
    "#unchangeable (but add and remove) un indexing unordered\n",
    "set5={\"hi\",\"hello\",\"namaste\"}\n",
    "print(type(set5))\n",
    "print(set5)\n",
    "# print(set[1])\n",
    "set5.add(\"bye\")\n",
    "print(set)"
   ]
  },
  {
   "cell_type": "code",
   "execution_count": 69,
   "metadata": {},
   "outputs": [
    {
     "name": "stdout",
     "output_type": "stream",
     "text": [
      "{1, 2, 4, 5}\n"
     ]
    }
   ],
   "source": [
    "set1={1,1,2,2,4,5}\n",
    "print(set1)"
   ]
  },
  {
   "cell_type": "code",
   "execution_count": 2,
   "metadata": {},
   "outputs": [
    {
     "name": "stdout",
     "output_type": "stream",
     "text": [
      "{1, 2, 4, 5}\n"
     ]
    }
   ],
   "source": [
    "list1=[1,1,2,2,4,5]\n",
    "my_set= set(list1)\n",
    "print(my_set)"
   ]
  },
  {
   "cell_type": "code",
   "execution_count": null,
   "metadata": {},
   "outputs": [],
   "source": []
  }
 ],
 "metadata": {
  "kernelspec": {
   "display_name": "Python 3",
   "language": "python",
   "name": "python3"
  },
  "language_info": {
   "codemirror_mode": {
    "name": "ipython",
    "version": 3
   },
   "file_extension": ".py",
   "mimetype": "text/x-python",
   "name": "python",
   "nbconvert_exporter": "python",
   "pygments_lexer": "ipython3",
   "version": "3.10.12"
  }
 },
 "nbformat": 4,
 "nbformat_minor": 2
}
